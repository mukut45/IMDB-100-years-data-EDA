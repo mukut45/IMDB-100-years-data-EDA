{
 "cells": [
  {
   "cell_type": "code",
   "execution_count": 13,
   "id": "6be59e01-7b96-4a65-ac1e-24caac324ee5",
   "metadata": {},
   "outputs": [
    {
     "name": "stdout",
     "output_type": "stream",
     "text": [
      "          id                            title  year duration MPA  rating  \\\n",
      "0  tt0073195                             Jaws  1975    2h 4m  PG     8.1   \n",
      "1  tt0073629    The Rocky Horror Picture Show  1975   1h 40m   R     7.4   \n",
      "2  tt0073486  One Flew Over the Cuckoo's Nest  1975   2h 13m   R     8.7   \n",
      "3  tt0072890                Dog Day Afternoon  1975    2h 5m   R     8.0   \n",
      "4  tt0073692                          Shampoo  1975   1h 50m   R     6.4   \n",
      "\n",
      "  votes  meta_score                                        description  \\\n",
      "0  690K        87.0  When a massive killer shark unleashes chaos on...   \n",
      "1  174K        65.0  A newly-engaged couple have a breakdown in an ...   \n",
      "2  1.1M        84.0  In the Fall of 1963, a Korean War veteran and ...   \n",
      "3  281K        86.0  Three amateur robbers plan to hold up a Brookl...   \n",
      "4   15K        65.0  On Election Day, 1968, irresponsible hairdress...   \n",
      "\n",
      "                             Movie_Link  ... opening_weekend_gross  \\\n",
      "0  https://www.imdb.com/title/tt0073195  ...            $7,061,513   \n",
      "1  https://www.imdb.com/title/tt0073629  ...                   NaN   \n",
      "2  https://www.imdb.com/title/tt0073486  ...                   NaN   \n",
      "3  https://www.imdb.com/title/tt0072890  ...                   NaN   \n",
      "4  https://www.imdb.com/title/tt0073692  ...                   NaN   \n",
      "\n",
      "  gross_worldwide gross_us_canada release_date  \\\n",
      "0    $477,916,625    $267,263,625       1975.0   \n",
      "1    $115,827,018    $112,892,319       1975.0   \n",
      "2    $109,115,366    $108,981,275       1975.0   \n",
      "3     $50,004,527     $50,000,000       1975.0   \n",
      "4     $49,407,734     $49,407,734       1975.0   \n",
      "\n",
      "                      countries_origin  \\\n",
      "0                    ['United States']   \n",
      "1  ['United Kingdom', 'United States']   \n",
      "2                    ['United States']   \n",
      "3                    ['United States']   \n",
      "4                    ['United States']   \n",
      "\n",
      "                                   filming_locations  \\\n",
      "0  [\"Water Street, Edgartown, Martha's Vineyard, ...   \n",
      "1  [\"Oakley Court, Windsor Road, Oakley Green, Wi...   \n",
      "2  ['Oregon State Mental Hospital - 2600 Center S...   \n",
      "3  ['285 Prospect Park West, Brooklyn, New York C...   \n",
      "4  [\"2270 Bowmont Drive, Beverly Hills, Californi...   \n",
      "\n",
      "                                production_companies  \\\n",
      "0  ['Zanuck/Brown Productions', 'Universal Pictur...   \n",
      "1  ['Twentieth Century Fox', 'Michael White Produ...   \n",
      "2                   ['Fantasy Films', 'N.V. Zvaluw']   \n",
      "3  ['Warner Bros.', 'Artists Entertainment Complex']   \n",
      "4  ['Persky-Bright / Vista', 'Columbia Pictures',...   \n",
      "\n",
      "                                 awards_content  \\\n",
      "0  Won 3 Oscars, 16 wins & 20 nominations total   \n",
      "1          Awards, 3 wins & 4 nominations total   \n",
      "2  Won 5 Oscars, 38 wins & 15 nominations total   \n",
      "3   Won 1 Oscar, 14 wins & 20 nominations total   \n",
      "4    Won 1 Oscar, 3 wins & 11 nominations total   \n",
      "\n",
      "                                              genres    languages  \n",
      "0  ['Monster Horror', 'Sea Adventure', 'Survival'...  ['English']  \n",
      "1  ['B-Horror', 'Dark Comedy', 'Parody', 'Raunchy...  ['English']  \n",
      "2  ['Medical Drama', 'Psychological Drama', 'Drama']  ['English']  \n",
      "3  ['Dark Comedy', 'Heist', 'True Crime', 'Biogra...  ['English']  \n",
      "4                      ['Satire', 'Comedy', 'Drama']  ['English']  \n",
      "\n",
      "[5 rows x 24 columns]\n"
     ]
    }
   ],
   "source": [
    "import pandas as pd\n",
    "import numpy as np\n",
    "import matplotlib.pyplot as plt\n",
    "import seaborn as sns\n",
    "\n",
    "df = pd.read_csv(r\"D:\\Information Technology\\IMDB 100+ years data\\imdb_100+_years_dataset.csv\")\n",
    "print(df.head())"
   ]
  },
  {
   "cell_type": "code",
   "execution_count": 15,
   "id": "f46559d5-51a8-454a-b8e3-9e358de9eb47",
   "metadata": {},
   "outputs": [
    {
     "name": "stdout",
     "output_type": "stream",
     "text": [
      "<class 'pandas.core.frame.DataFrame'>\n",
      "RangeIndex: 63249 entries, 0 to 63248\n",
      "Data columns (total 24 columns):\n",
      " #   Column                 Non-Null Count  Dtype  \n",
      "---  ------                 --------------  -----  \n",
      " 0   id                     63249 non-null  object \n",
      " 1   title                  63249 non-null  object \n",
      " 2   year                   63249 non-null  int64  \n",
      " 3   duration               61174 non-null  object \n",
      " 4   MPA                    41227 non-null  object \n",
      " 5   rating                 59181 non-null  float64\n",
      " 6   votes                  59181 non-null  object \n",
      " 7   meta_score             15533 non-null  float64\n",
      " 8   description            60889 non-null  object \n",
      " 9   Movie_Link             63249 non-null  object \n",
      " 10  writers                62980 non-null  object \n",
      " 11  directors              63198 non-null  object \n",
      " 12  stars                  62905 non-null  object \n",
      " 13  budget                 15359 non-null  object \n",
      " 14  opening_weekend_gross  16837 non-null  object \n",
      " 15  gross_worldwide        20722 non-null  object \n",
      " 16  gross_us_canada        19544 non-null  object \n",
      " 17  release_date           54849 non-null  float64\n",
      " 18  countries_origin       63150 non-null  object \n",
      " 19  filming_locations      46395 non-null  object \n",
      " 20  production_companies   61276 non-null  object \n",
      " 21  awards_content         27068 non-null  object \n",
      " 22  genres                 62462 non-null  object \n",
      " 23  languages              62919 non-null  object \n",
      "dtypes: float64(3), int64(1), object(20)\n",
      "memory usage: 11.6+ MB\n"
     ]
    }
   ],
   "source": [
    "df.info()"
   ]
  },
  {
   "cell_type": "code",
   "execution_count": 17,
   "id": "d2150efa-33df-4bcc-912c-eea38ef770b2",
   "metadata": {},
   "outputs": [
    {
     "data": {
      "text/plain": [
       "Index(['id', 'title', 'year', 'duration', 'MPA', 'rating', 'votes',\n",
       "       'meta_score', 'description', 'Movie_Link', 'writers', 'directors',\n",
       "       'stars', 'budget', 'opening_weekend_gross', 'gross_worldwide',\n",
       "       'gross_us_canada', 'release_date', 'countries_origin',\n",
       "       'filming_locations', 'production_companies', 'awards_content', 'genres',\n",
       "       'languages'],\n",
       "      dtype='object')"
      ]
     },
     "execution_count": 17,
     "metadata": {},
     "output_type": "execute_result"
    }
   ],
   "source": [
    "df.columns"
   ]
  },
  {
   "cell_type": "code",
   "execution_count": 19,
   "id": "5e41ddac-5a6b-4245-9e60-90b572a8a3a3",
   "metadata": {},
   "outputs": [
    {
     "data": {
      "text/plain": [
       "id                           0\n",
       "title                        0\n",
       "year                         0\n",
       "duration                  2075\n",
       "MPA                      22022\n",
       "rating                    4068\n",
       "votes                     4068\n",
       "meta_score               47716\n",
       "description               2360\n",
       "Movie_Link                   0\n",
       "writers                    269\n",
       "directors                   51\n",
       "stars                      344\n",
       "budget                   47890\n",
       "opening_weekend_gross    46412\n",
       "gross_worldwide          42527\n",
       "gross_us_canada          43705\n",
       "release_date              8400\n",
       "countries_origin            99\n",
       "filming_locations        16854\n",
       "production_companies      1973\n",
       "awards_content           36181\n",
       "genres                     787\n",
       "languages                  330\n",
       "dtype: int64"
      ]
     },
     "execution_count": 19,
     "metadata": {},
     "output_type": "execute_result"
    }
   ],
   "source": [
    "df.isnull().sum()"
   ]
  },
  {
   "cell_type": "code",
   "execution_count": 21,
   "id": "e657bf81-b351-4e40-a5c8-b200718ce870",
   "metadata": {},
   "outputs": [],
   "source": [
    "# Drop highly missing or irrelevant columns (example)\n",
    "df.drop(columns=['Movie_Link', 'awards_content'], inplace=True)"
   ]
  },
  {
   "cell_type": "code",
   "execution_count": 25,
   "id": "4083f54f-f013-4173-81d7-c61f0102e7da",
   "metadata": {},
   "outputs": [],
   "source": [
    "# Example fill for numerical columns\n",
    "df['rating'] = df['rating'].fillna(df['rating'].median())\n",
    "df['votes'] = df['votes'].fillna(0)"
   ]
  },
  {
   "cell_type": "code",
   "execution_count": 35,
   "id": "c09e4b0e-43f6-4b45-8cac-0b12f9ff860c",
   "metadata": {},
   "outputs": [],
   "source": [
    "# Example fill for categorical\n",
    "df['MPA'] = df['MPA'].fillna(\"Not Rated\")"
   ]
  },
  {
   "cell_type": "code",
   "execution_count": 37,
   "id": "ba1c2d9e-d708-45f8-b05e-cac3ddc0c9ad",
   "metadata": {},
   "outputs": [
    {
     "data": {
      "text/plain": [
       "id                           0\n",
       "title                        0\n",
       "year                         0\n",
       "duration                  2075\n",
       "MPA                          0\n",
       "rating                       0\n",
       "votes                        0\n",
       "meta_score               47716\n",
       "description               2360\n",
       "writers                    269\n",
       "directors                   51\n",
       "stars                      344\n",
       "budget                   47890\n",
       "opening_weekend_gross    46412\n",
       "gross_worldwide          42527\n",
       "gross_us_canada          43705\n",
       "release_date              8400\n",
       "countries_origin            99\n",
       "filming_locations        16854\n",
       "production_companies      1973\n",
       "genres                     787\n",
       "languages                  330\n",
       "dtype: int64"
      ]
     },
     "execution_count": 37,
     "metadata": {},
     "output_type": "execute_result"
    }
   ],
   "source": [
    "df.isnull().sum()"
   ]
  },
  {
   "cell_type": "code",
   "execution_count": 39,
   "id": "0c850f83-1e56-468e-a73d-b81e660fb525",
   "metadata": {},
   "outputs": [],
   "source": [
    "# Drop rows with missing genres\n",
    "df.dropna(subset=['genres'], inplace=True)"
   ]
  },
  {
   "cell_type": "code",
   "execution_count": 45,
   "id": "a7de040f-23cb-481c-a282-32b750b92e98",
   "metadata": {},
   "outputs": [],
   "source": [
    "import re\n",
    "\n",
    "# Custom parser function\n",
    "def parse_duration(x):\n",
    "    if pd.isna(x):\n",
    "        return np.nan\n",
    "    x = str(x).strip().lower()\n",
    "    \n",
    "    # Match patterns like '2h 10m', '1h', '45m'\n",
    "    match = re.match(r'(?:(\\d+)\\s*h)?\\s*(?:(\\d+)\\s*m)?', x)\n",
    "    if not match:\n",
    "        return np.nan\n",
    "\n",
    "    hours = int(match.group(1)) if match.group(1) else 0\n",
    "    minutes = int(match.group(2)) if match.group(2) else 0\n",
    "    return hours * 60 + minutes\n",
    "\n",
    "# Apply conversion\n",
    "df['duration'] = df['duration'].apply(parse_duration)"
   ]
  },
  {
   "cell_type": "code",
   "execution_count": 47,
   "id": "008d8915-eb19-4184-9769-3053023c76c2",
   "metadata": {},
   "outputs": [
    {
     "data": {
      "text/plain": [
       "dtype('float64')"
      ]
     },
     "execution_count": 47,
     "metadata": {},
     "output_type": "execute_result"
    }
   ],
   "source": [
    "df['duration'].describe()\n",
    "df['duration'].isnull().sum()\n",
    "df['duration'].dtype\n"
   ]
  },
  {
   "cell_type": "code",
   "execution_count": 49,
   "id": "d9173165-dbf5-4cec-b13d-7f61c4be2732",
   "metadata": {},
   "outputs": [
    {
     "data": {
      "text/plain": [
       "1614"
      ]
     },
     "execution_count": 49,
     "metadata": {},
     "output_type": "execute_result"
    }
   ],
   "source": [
    "df['duration'].isnull().sum()"
   ]
  },
  {
   "cell_type": "code",
   "execution_count": 51,
   "id": "65cb774c-6425-4117-a46b-00a6bfbf56fc",
   "metadata": {},
   "outputs": [
    {
     "data": {
      "text/plain": [
       "count    60848.000000\n",
       "mean        95.724494\n",
       "std         36.475582\n",
       "min          0.000000\n",
       "25%         82.000000\n",
       "50%         93.000000\n",
       "75%        105.000000\n",
       "max       5220.000000\n",
       "Name: duration, dtype: float64"
      ]
     },
     "execution_count": 51,
     "metadata": {},
     "output_type": "execute_result"
    }
   ],
   "source": [
    "df['duration'].describe()"
   ]
  },
  {
   "cell_type": "code",
   "execution_count": null,
   "id": "2ceea310-62f6-416b-89ee-b0122f834d32",
   "metadata": {},
   "outputs": [],
   "source": []
  }
 ],
 "metadata": {
  "kernelspec": {
   "display_name": "Python 3 (ipykernel)",
   "language": "python",
   "name": "python3"
  },
  "language_info": {
   "codemirror_mode": {
    "name": "ipython",
    "version": 3
   },
   "file_extension": ".py",
   "mimetype": "text/x-python",
   "name": "python",
   "nbconvert_exporter": "python",
   "pygments_lexer": "ipython3",
   "version": "3.12.4"
  }
 },
 "nbformat": 4,
 "nbformat_minor": 5
}
