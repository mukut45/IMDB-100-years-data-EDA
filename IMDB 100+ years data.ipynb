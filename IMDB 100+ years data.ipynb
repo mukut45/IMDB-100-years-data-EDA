{
 "cells": [
  {
   "cell_type": "code",
   "execution_count": 147,
   "id": "6be59e01-7b96-4a65-ac1e-24caac324ee5",
   "metadata": {},
   "outputs": [
    {
     "name": "stdout",
     "output_type": "stream",
     "text": [
      "          id                            title  year duration MPA  rating  \\\n",
      "0  tt0073195                             Jaws  1975    2h 4m  PG     8.1   \n",
      "1  tt0073629    The Rocky Horror Picture Show  1975   1h 40m   R     7.4   \n",
      "2  tt0073486  One Flew Over the Cuckoo's Nest  1975   2h 13m   R     8.7   \n",
      "3  tt0072890                Dog Day Afternoon  1975    2h 5m   R     8.0   \n",
      "4  tt0073692                          Shampoo  1975   1h 50m   R     6.4   \n",
      "\n",
      "  votes  meta_score                                        description  \\\n",
      "0  690K        87.0  When a massive killer shark unleashes chaos on...   \n",
      "1  174K        65.0  A newly-engaged couple have a breakdown in an ...   \n",
      "2  1.1M        84.0  In the Fall of 1963, a Korean War veteran and ...   \n",
      "3  281K        86.0  Three amateur robbers plan to hold up a Brookl...   \n",
      "4   15K        65.0  On Election Day, 1968, irresponsible hairdress...   \n",
      "\n",
      "                             Movie_Link  ... opening_weekend_gross  \\\n",
      "0  https://www.imdb.com/title/tt0073195  ...            $7,061,513   \n",
      "1  https://www.imdb.com/title/tt0073629  ...                   NaN   \n",
      "2  https://www.imdb.com/title/tt0073486  ...                   NaN   \n",
      "3  https://www.imdb.com/title/tt0072890  ...                   NaN   \n",
      "4  https://www.imdb.com/title/tt0073692  ...                   NaN   \n",
      "\n",
      "  gross_worldwide gross_us_canada release_date  \\\n",
      "0    $477,916,625    $267,263,625       1975.0   \n",
      "1    $115,827,018    $112,892,319       1975.0   \n",
      "2    $109,115,366    $108,981,275       1975.0   \n",
      "3     $50,004,527     $50,000,000       1975.0   \n",
      "4     $49,407,734     $49,407,734       1975.0   \n",
      "\n",
      "                      countries_origin  \\\n",
      "0                    ['United States']   \n",
      "1  ['United Kingdom', 'United States']   \n",
      "2                    ['United States']   \n",
      "3                    ['United States']   \n",
      "4                    ['United States']   \n",
      "\n",
      "                                   filming_locations  \\\n",
      "0  [\"Water Street, Edgartown, Martha's Vineyard, ...   \n",
      "1  [\"Oakley Court, Windsor Road, Oakley Green, Wi...   \n",
      "2  ['Oregon State Mental Hospital - 2600 Center S...   \n",
      "3  ['285 Prospect Park West, Brooklyn, New York C...   \n",
      "4  [\"2270 Bowmont Drive, Beverly Hills, Californi...   \n",
      "\n",
      "                                production_companies  \\\n",
      "0  ['Zanuck/Brown Productions', 'Universal Pictur...   \n",
      "1  ['Twentieth Century Fox', 'Michael White Produ...   \n",
      "2                   ['Fantasy Films', 'N.V. Zvaluw']   \n",
      "3  ['Warner Bros.', 'Artists Entertainment Complex']   \n",
      "4  ['Persky-Bright / Vista', 'Columbia Pictures',...   \n",
      "\n",
      "                                 awards_content  \\\n",
      "0  Won 3 Oscars, 16 wins & 20 nominations total   \n",
      "1          Awards, 3 wins & 4 nominations total   \n",
      "2  Won 5 Oscars, 38 wins & 15 nominations total   \n",
      "3   Won 1 Oscar, 14 wins & 20 nominations total   \n",
      "4    Won 1 Oscar, 3 wins & 11 nominations total   \n",
      "\n",
      "                                              genres    languages  \n",
      "0  ['Monster Horror', 'Sea Adventure', 'Survival'...  ['English']  \n",
      "1  ['B-Horror', 'Dark Comedy', 'Parody', 'Raunchy...  ['English']  \n",
      "2  ['Medical Drama', 'Psychological Drama', 'Drama']  ['English']  \n",
      "3  ['Dark Comedy', 'Heist', 'True Crime', 'Biogra...  ['English']  \n",
      "4                      ['Satire', 'Comedy', 'Drama']  ['English']  \n",
      "\n",
      "[5 rows x 24 columns]\n"
     ]
    }
   ],
   "source": [
    "import pandas as pd\n",
    "import numpy as np\n",
    "import matplotlib.pyplot as plt\n",
    "import seaborn as sns\n",
    "\n",
    "df = pd.read_csv(r\"D:\\Information Technology\\IMDB 100+ years data\\imdb_100+_years_dataset.csv\")\n",
    "print(df.head())"
   ]
  },
  {
   "cell_type": "code",
   "execution_count": 148,
   "id": "f46559d5-51a8-454a-b8e3-9e358de9eb47",
   "metadata": {},
   "outputs": [
    {
     "name": "stdout",
     "output_type": "stream",
     "text": [
      "<class 'pandas.core.frame.DataFrame'>\n",
      "RangeIndex: 63249 entries, 0 to 63248\n",
      "Data columns (total 24 columns):\n",
      " #   Column                 Non-Null Count  Dtype  \n",
      "---  ------                 --------------  -----  \n",
      " 0   id                     63249 non-null  object \n",
      " 1   title                  63249 non-null  object \n",
      " 2   year                   63249 non-null  int64  \n",
      " 3   duration               61174 non-null  object \n",
      " 4   MPA                    41227 non-null  object \n",
      " 5   rating                 59181 non-null  float64\n",
      " 6   votes                  59181 non-null  object \n",
      " 7   meta_score             15533 non-null  float64\n",
      " 8   description            60889 non-null  object \n",
      " 9   Movie_Link             63249 non-null  object \n",
      " 10  writers                62980 non-null  object \n",
      " 11  directors              63198 non-null  object \n",
      " 12  stars                  62905 non-null  object \n",
      " 13  budget                 15359 non-null  object \n",
      " 14  opening_weekend_gross  16837 non-null  object \n",
      " 15  gross_worldwide        20722 non-null  object \n",
      " 16  gross_us_canada        19544 non-null  object \n",
      " 17  release_date           54849 non-null  float64\n",
      " 18  countries_origin       63150 non-null  object \n",
      " 19  filming_locations      46395 non-null  object \n",
      " 20  production_companies   61276 non-null  object \n",
      " 21  awards_content         27068 non-null  object \n",
      " 22  genres                 62462 non-null  object \n",
      " 23  languages              62919 non-null  object \n",
      "dtypes: float64(3), int64(1), object(20)\n",
      "memory usage: 11.6+ MB\n"
     ]
    }
   ],
   "source": [
    "df.info()"
   ]
  },
  {
   "cell_type": "code",
   "execution_count": 149,
   "id": "d2150efa-33df-4bcc-912c-eea38ef770b2",
   "metadata": {},
   "outputs": [
    {
     "data": {
      "text/plain": [
       "Index(['id', 'title', 'year', 'duration', 'MPA', 'rating', 'votes',\n",
       "       'meta_score', 'description', 'Movie_Link', 'writers', 'directors',\n",
       "       'stars', 'budget', 'opening_weekend_gross', 'gross_worldwide',\n",
       "       'gross_us_canada', 'release_date', 'countries_origin',\n",
       "       'filming_locations', 'production_companies', 'awards_content', 'genres',\n",
       "       'languages'],\n",
       "      dtype='object')"
      ]
     },
     "execution_count": 149,
     "metadata": {},
     "output_type": "execute_result"
    }
   ],
   "source": [
    "df.columns"
   ]
  },
  {
   "cell_type": "code",
   "execution_count": 150,
   "id": "5e41ddac-5a6b-4245-9e60-90b572a8a3a3",
   "metadata": {},
   "outputs": [
    {
     "data": {
      "text/plain": [
       "id                           0\n",
       "title                        0\n",
       "year                         0\n",
       "duration                  2075\n",
       "MPA                      22022\n",
       "rating                    4068\n",
       "votes                     4068\n",
       "meta_score               47716\n",
       "description               2360\n",
       "Movie_Link                   0\n",
       "writers                    269\n",
       "directors                   51\n",
       "stars                      344\n",
       "budget                   47890\n",
       "opening_weekend_gross    46412\n",
       "gross_worldwide          42527\n",
       "gross_us_canada          43705\n",
       "release_date              8400\n",
       "countries_origin            99\n",
       "filming_locations        16854\n",
       "production_companies      1973\n",
       "awards_content           36181\n",
       "genres                     787\n",
       "languages                  330\n",
       "dtype: int64"
      ]
     },
     "execution_count": 150,
     "metadata": {},
     "output_type": "execute_result"
    }
   ],
   "source": [
    "df.isnull().sum()"
   ]
  },
  {
   "cell_type": "code",
   "execution_count": 151,
   "id": "e657bf81-b351-4e40-a5c8-b200718ce870",
   "metadata": {},
   "outputs": [],
   "source": [
    "# Drop highly missing or irrelevant columns (example)\n",
    "df.drop(columns=['Movie_Link', 'awards_content'], inplace=True)"
   ]
  },
  {
   "cell_type": "code",
   "execution_count": 152,
   "id": "4083f54f-f013-4173-81d7-c61f0102e7da",
   "metadata": {},
   "outputs": [],
   "source": [
    "# Example fill for numerical columns\n",
    "df['rating'] = df['rating'].fillna(df['rating'].median())\n",
    "df['votes'] = df['votes'].fillna(0)"
   ]
  },
  {
   "cell_type": "code",
   "execution_count": 153,
   "id": "c09e4b0e-43f6-4b45-8cac-0b12f9ff860c",
   "metadata": {},
   "outputs": [],
   "source": [
    "# Example fill for categorical\n",
    "df['MPA'] = df['MPA'].fillna(\"Not Rated\")"
   ]
  },
  {
   "cell_type": "code",
   "execution_count": 154,
   "id": "ba1c2d9e-d708-45f8-b05e-cac3ddc0c9ad",
   "metadata": {},
   "outputs": [
    {
     "data": {
      "text/plain": [
       "id                           0\n",
       "title                        0\n",
       "year                         0\n",
       "duration                  2075\n",
       "MPA                          0\n",
       "rating                       0\n",
       "votes                        0\n",
       "meta_score               47716\n",
       "description               2360\n",
       "writers                    269\n",
       "directors                   51\n",
       "stars                      344\n",
       "budget                   47890\n",
       "opening_weekend_gross    46412\n",
       "gross_worldwide          42527\n",
       "gross_us_canada          43705\n",
       "release_date              8400\n",
       "countries_origin            99\n",
       "filming_locations        16854\n",
       "production_companies      1973\n",
       "genres                     787\n",
       "languages                  330\n",
       "dtype: int64"
      ]
     },
     "execution_count": 154,
     "metadata": {},
     "output_type": "execute_result"
    }
   ],
   "source": [
    "df.isnull().sum()"
   ]
  },
  {
   "cell_type": "code",
   "execution_count": 158,
   "id": "0c850f83-1e56-468e-a73d-b81e660fb525",
   "metadata": {},
   "outputs": [],
   "source": [
    "# Drop rows with missing genres\n",
    "df.dropna(subset=['genres'], inplace=True)"
   ]
  },
  {
   "cell_type": "code",
   "execution_count": 163,
   "id": "a7de040f-23cb-481c-a282-32b750b92e98",
   "metadata": {},
   "outputs": [],
   "source": [
    "import re\n",
    "\n",
    "# Custom parser function\n",
    "def parse_duration(x):\n",
    "    if pd.isna(x):\n",
    "        return np.nan\n",
    "    x = str(x).strip().lower()\n",
    "    \n",
    "    # Match patterns like '2h 10m', '1h', '45m'\n",
    "    match = re.match(r'(?:(\\d+)\\s*h)?\\s*(?:(\\d+)\\s*m)?', x)\n",
    "    if not match:\n",
    "        return np.nan\n",
    "\n",
    "    hours = int(match.group(1)) if match.group(1) else 0\n",
    "    minutes = int(match.group(2)) if match.group(2) else 0\n",
    "    return hours * 60 + minutes\n",
    "\n",
    "# Apply conversion\n",
    "df['duration'] = df['duration'].apply(parse_duration)"
   ]
  },
  {
   "cell_type": "code",
   "execution_count": 165,
   "id": "008d8915-eb19-4184-9769-3053023c76c2",
   "metadata": {},
   "outputs": [
    {
     "data": {
      "text/plain": [
       "dtype('float64')"
      ]
     },
     "execution_count": 165,
     "metadata": {},
     "output_type": "execute_result"
    }
   ],
   "source": [
    "df['duration'].describe()\n",
    "df['duration'].isnull().sum()\n",
    "df['duration'].dtype"
   ]
  },
  {
   "cell_type": "code",
   "execution_count": 167,
   "id": "d9173165-dbf5-4cec-b13d-7f61c4be2732",
   "metadata": {},
   "outputs": [
    {
     "data": {
      "text/plain": [
       "1614"
      ]
     },
     "execution_count": 167,
     "metadata": {},
     "output_type": "execute_result"
    }
   ],
   "source": [
    "df['duration'].isnull().sum()"
   ]
  },
  {
   "cell_type": "code",
   "execution_count": 168,
   "id": "65cb774c-6425-4117-a46b-00a6bfbf56fc",
   "metadata": {},
   "outputs": [
    {
     "data": {
      "text/plain": [
       "count    60848.000000\n",
       "mean        95.724494\n",
       "std         36.475582\n",
       "min          0.000000\n",
       "25%         82.000000\n",
       "50%         93.000000\n",
       "75%        105.000000\n",
       "max       5220.000000\n",
       "Name: duration, dtype: float64"
      ]
     },
     "execution_count": 168,
     "metadata": {},
     "output_type": "execute_result"
    }
   ],
   "source": [
    "df['duration'].describe()"
   ]
  },
  {
   "cell_type": "code",
   "execution_count": 169,
   "id": "2ceea310-62f6-416b-89ee-b0122f834d32",
   "metadata": {},
   "outputs": [],
   "source": [
    "# Simple imputation\n",
    "df['duration'] = df['duration'].fillna(df['duration'].median())"
   ]
  },
  {
   "cell_type": "code",
   "execution_count": 175,
   "id": "0c9a064c-19aa-4e97-8581-f1ef75127275",
   "metadata": {},
   "outputs": [
    {
     "data": {
      "text/plain": [
       "0"
      ]
     },
     "execution_count": 175,
     "metadata": {},
     "output_type": "execute_result"
    }
   ],
   "source": [
    "df['duration'].isnull().sum()"
   ]
  },
  {
   "cell_type": "code",
   "execution_count": 177,
   "id": "53c50b5a-b747-49af-bb52-6ba9aab1e6d6",
   "metadata": {},
   "outputs": [
    {
     "data": {
      "text/plain": [
       "id                           0\n",
       "title                        0\n",
       "year                         0\n",
       "duration                     0\n",
       "MPA                          0\n",
       "rating                       0\n",
       "votes                        0\n",
       "meta_score               46929\n",
       "description               1888\n",
       "writers                    214\n",
       "directors                   25\n",
       "stars                      297\n",
       "budget                   47108\n",
       "opening_weekend_gross    45655\n",
       "gross_worldwide          41781\n",
       "gross_us_canada          42957\n",
       "release_date              8365\n",
       "countries_origin            72\n",
       "filming_locations        16184\n",
       "production_companies      1845\n",
       "genres                       0\n",
       "languages                  283\n",
       "dtype: int64"
      ]
     },
     "execution_count": 177,
     "metadata": {},
     "output_type": "execute_result"
    }
   ],
   "source": [
    "df.isnull().sum()"
   ]
  },
  {
   "cell_type": "code",
   "execution_count": 179,
   "id": "c81a637e-9cc8-4c81-b52c-0ff9bf85bf0b",
   "metadata": {},
   "outputs": [
    {
     "data": {
      "text/plain": [
       "count    15533.000000\n",
       "mean        59.071203\n",
       "std         17.403032\n",
       "min          1.000000\n",
       "25%         47.000000\n",
       "50%         61.000000\n",
       "75%         72.000000\n",
       "max        100.000000\n",
       "Name: meta_score, dtype: float64"
      ]
     },
     "execution_count": 179,
     "metadata": {},
     "output_type": "execute_result"
    }
   ],
   "source": [
    "df[df['meta_score'].notnull()]['meta_score'].describe()"
   ]
  },
  {
   "cell_type": "code",
   "execution_count": 181,
   "id": "470fe37b-f0d0-4455-bb62-668771809cdc",
   "metadata": {},
   "outputs": [
    {
     "data": {
      "image/png": "[encoded data removed]",
      "text/plain": [
       "<Figure size 640x480 with 1 Axes>"
      ]
     },
     "metadata": {},
     "output_type": "display_data"
    }
   ],
   "source": [
    "sns.histplot(df['meta_score'].dropna(), bins=20, color='purple')\n",
    "plt.title(\"Distribution of Meta Scores\")\n",
    "plt.show()"
   ]
  },
  {
   "cell_type": "code",
   "execution_count": 183,
   "id": "93e13fc3-0ee2-46c5-899d-ca24bba29e15",
   "metadata": {},
   "outputs": [
    {
     "data": {
      "text/plain": [
       "0    $7,000,000 (estimated)\n",
       "1    $1,200,000 (estimated)\n",
       "2    $3,000,000 (estimated)\n",
       "3    $1,800,000 (estimated)\n",
       "4    $4,000,000 (estimated)\n",
       "Name: budget, dtype: object"
      ]
     },
     "execution_count": 183,
     "metadata": {},
     "output_type": "execute_result"
    }
   ],
   "source": [
    "df['budget'].head()"
   ]
  },
  {
   "cell_type": "code",
   "execution_count": 190,
   "id": "be58075c-32b0-447c-99f8-942d09180dde",
   "metadata": {},
   "outputs": [],
   "source": [
    "df.drop(columns=['budget'], inplace=True)"
   ]
  },
  {
   "cell_type": "code",
   "execution_count": 192,
   "id": "56ca4d5e-4998-4a0f-8bcd-30ce493d86a5",
   "metadata": {},
   "outputs": [
    {
     "data": {
      "text/plain": [
       "Index(['id', 'title', 'year', 'duration', 'MPA', 'rating', 'votes',\n",
       "       'meta_score', 'description', 'writers', 'directors', 'stars',\n",
       "       'opening_weekend_gross', 'gross_worldwide', 'gross_us_canada',\n",
       "       'release_date', 'countries_origin', 'filming_locations',\n",
       "       'production_companies', 'genres', 'languages'],\n",
       "      dtype='object')"
      ]
     },
     "execution_count": 192,
     "metadata": {},
     "output_type": "execute_result"
    }
   ],
   "source": [
    "df.columns"
   ]
  },
  {
   "cell_type": "code",
   "execution_count": 198,
   "id": "0f664d4c-24d8-481c-88f7-b088cf5c7f4e",
   "metadata": {},
   "outputs": [
    {
     "data": {
      "text/plain": [
       "0     $267,263,625\n",
       "1     $112,892,319\n",
       "2     $108,981,275\n",
       "3      $50,000,000\n",
       "4      $49,407,734\n",
       "5      $41,833,347\n",
       "6      $39,000,000\n",
       "7      $36,853,000\n",
       "8      $34,251,525\n",
       "9      $27,476,252\n",
       "10     $24,441,725\n",
       "11     $20,642,922\n",
       "12     $20,123,742\n",
       "13     $20,000,000\n",
       "14     $15,700,729\n",
       "15     $14,200,000\n",
       "16     $12,484,444\n",
       "17     $11,234,220\n",
       "18     $11,000,000\n",
       "19      $9,984,123\n",
       "Name: gross_us_canada, dtype: object"
      ]
     },
     "execution_count": 198,
     "metadata": {},
     "output_type": "execute_result"
    }
   ],
   "source": [
    "df['gross_us_canada'].head(20)"
   ]
  },
  {
   "cell_type": "code",
   "execution_count": 200,
   "id": "21831d4c-4d5c-4ff3-9177-f7f4cac22916",
   "metadata": {},
   "outputs": [
    {
     "data": {
      "text/plain": [
       "0     ['Roy Scheider', 'Robert Shaw', 'Richard Dreyf...\n",
       "1     ['Tim Curry', 'Susan Sarandon', 'Barry Bostwic...\n",
       "2     ['Jack Nicholson', 'Louise Fletcher', 'Michael...\n",
       "3     ['Al Pacino', 'John Cazale', 'Penelope Allen',...\n",
       "4     ['Warren Beatty', 'Julie Christie', 'Goldie Ha...\n",
       "5     ['Peter Sellers', 'Christopher Plummer', 'Cath...\n",
       "6     ['Barbra Streisand', 'James Caan', 'Omar Shari...\n",
       "7     ['Bill Bixby', 'Susan Clark', 'Don Knotts', 'T...\n",
       "8     ['Roger Daltrey', 'Ann-Margret', 'Oliver Reed'...\n",
       "9     ['Robert Redford', 'Faye Dunaway', 'Cliff Robe...\n",
       "10    ['Gene Hackman', 'Liza Minnelli', 'Burt Reynol...\n",
       "11    ['Robert Redford', 'Bo Svenson', 'Bo Brundin',...\n",
       "12    ['Woody Allen', 'Diane Keaton', 'Georges Adet'...\n",
       "13    ['Eddie Albert', 'Ray Milland', 'Donald Please...\n",
       "14    ['Kirk Douglas', 'Alexis Smith', 'David Jansse...\n",
       "15    ['Clint Eastwood', 'George Kennedy', 'Vonetta ...\n",
       "16    ['Gene Hackman', 'Fernando Rey', 'Bernard Fres...\n",
       "17    ['Georges Atlas', 'Jacques Balutin', 'Angelo B...\n",
       "18                                   ['James Whitmore']\n",
       "19    ['Keith Carradine', 'Karen Black', 'Ronee Blak...\n",
       "Name: stars, dtype: object"
      ]
     },
     "execution_count": 200,
     "metadata": {},
     "output_type": "execute_result"
    }
   ],
   "source": [
    "df['stars'].head(20) # objective column"
   ]
  },
  {
   "cell_type": "code",
   "execution_count": 206,
   "id": "8761b83a-7123-4d7c-8fc0-665e99197486",
   "metadata": {},
   "outputs": [
    {
     "data": {
      "text/plain": [
       "0                          ['English']\n",
       "1                          ['English']\n",
       "2                          ['English']\n",
       "3                          ['English']\n",
       "4                          ['English']\n",
       "5                          ['English']\n",
       "6                          ['English']\n",
       "7                          ['English']\n",
       "8                          ['English']\n",
       "9                ['English', 'French']\n",
       "10    ['English', 'Spanish', 'French']\n",
       "11                         ['English']\n",
       "12                         ['English']\n",
       "13                         ['English']\n",
       "14                         ['English']\n",
       "15               ['English', 'German']\n",
       "16               ['English', 'French']\n",
       "17               ['English', 'French']\n",
       "18                         ['English']\n",
       "19                         ['English']\n",
       "Name: languages, dtype: object"
      ]
     },
     "execution_count": 206,
     "metadata": {},
     "output_type": "execute_result"
    }
   ],
   "source": [
    "df['languages'].head(20) # again its an objective column, will analyze it letter to know about the language trand"
   ]
  },
  {
   "cell_type": "code",
   "execution_count": 208,
   "id": "1c079945-5c4c-4cbd-9965-d74330c035ae",
   "metadata": {},
   "outputs": [
    {
     "name": "stdout",
     "output_type": "stream",
     "text": [
      "<class 'pandas.core.series.Series'>\n",
      "Index: 62462 entries, 0 to 63248\n",
      "Series name: languages\n",
      "Non-Null Count  Dtype \n",
      "--------------  ----- \n",
      "62179 non-null  object\n",
      "dtypes: object(1)\n",
      "memory usage: 976.0+ KB\n"
     ]
    }
   ],
   "source": [
    "df['languages'].info()"
   ]
  },
  {
   "cell_type": "code",
   "execution_count": 210,
   "id": "73990d27-c9e5-4a19-9079-9f6173c830e1",
   "metadata": {},
   "outputs": [
    {
     "name": "stdout",
     "output_type": "stream",
     "text": [
      "<class 'pandas.core.series.Series'>\n",
      "Index: 62462 entries, 0 to 63248\n",
      "Series name: countries_origin\n",
      "Non-Null Count  Dtype \n",
      "--------------  ----- \n",
      "62390 non-null  object\n",
      "dtypes: object(1)\n",
      "memory usage: 976.0+ KB\n"
     ]
    }
   ],
   "source": [
    "df['countries_origin'].info() # it is an objective column"
   ]
  },
  {
   "cell_type": "code",
   "execution_count": 212,
   "id": "db8c0ca5-450c-4187-b14e-c36ac17c1cd1",
   "metadata": {},
   "outputs": [
    {
     "data": {
      "text/plain": [
       "72"
      ]
     },
     "execution_count": 212,
     "metadata": {},
     "output_type": "execute_result"
    }
   ],
   "source": [
    "df['countries_origin'].isnull().sum()"
   ]
  },
  {
   "cell_type": "code",
   "execution_count": 214,
   "id": "7efb0e7a-8992-474d-8cef-4b07cd8a70a1",
   "metadata": {},
   "outputs": [
    {
     "data": {
      "text/plain": [
       "Index(['id', 'title', 'year', 'duration', 'MPA', 'rating', 'votes',\n",
       "       'meta_score', 'description', 'writers', 'directors', 'stars',\n",
       "       'opening_weekend_gross', 'gross_worldwide', 'gross_us_canada',\n",
       "       'release_date', 'countries_origin', 'filming_locations',\n",
       "       'production_companies', 'genres', 'languages'],\n",
       "      dtype='object')"
      ]
     },
     "execution_count": 214,
     "metadata": {},
     "output_type": "execute_result"
    }
   ],
   "source": [
    "df.columns"
   ]
  },
  {
   "cell_type": "code",
   "execution_count": 230,
   "id": "187ff3e0-2eb6-4c37-830e-7fc8f554cdef",
   "metadata": {},
   "outputs": [
    {
     "name": "stdout",
     "output_type": "stream",
     "text": [
      "Top 10 genres in 2024:\n",
      "genres\n",
      "'Thriller']    184\n",
      "'Drama'        151\n",
      "'Comedy'        95\n",
      "'Action'        83\n",
      "'Horror'        61\n",
      "'Adventure'     61\n",
      "'Drama']        56\n",
      "'Romance']      51\n",
      "'Crime'         47\n",
      "'Animation'     44\n",
      "Name: count, dtype: int64\n"
     ]
    }
   ],
   "source": [
    "# Step 1: Filter movies released in 2024\n",
    "df_2024 = df[df['year'] == 2024]\n",
    "\n",
    "# Step 2: Drop missing or empty genre entries\n",
    "# df_2024 = df_2024[df_2024['genres'].notnull() & (df_2024['genres'] != '')]\n",
    "\n",
    "# Step 3: Split genre strings (like 'Monster Horror, Sea Adventure') into separate entries\n",
    "all_genres_2024 = df_2024['genres'].str.split(',').explode().str.strip()\n",
    "\n",
    "# Step 4: Count top 5 genres\n",
    "top_genres_2024 = all_genres_2024.value_counts().head(10)\n",
    "\n",
    "# Step 5: Display result\n",
    "print(\"Top 10 genres in 2024:\")\n",
    "print(top_genres_2024)\n"
   ]
  },
  {
   "cell_type": "code",
   "execution_count": 238,
   "id": "258be501-2a56-4db1-af9a-ea6cb2945062",
   "metadata": {},
   "outputs": [
    {
     "name": "stdout",
     "output_type": "stream",
     "text": [
      "Top 20 genres in 2024:\n",
      "genres\n",
      "Drama        274\n",
      "Thriller     202\n",
      "Comedy       169\n",
      "Action       129\n",
      "Horror        99\n",
      "Adventure     76\n",
      "Crime         70\n",
      "Romance       69\n",
      "Sci-Fi        59\n",
      "Mystery       55\n",
      "Name: count, dtype: int64\n"
     ]
    }
   ],
   "source": [
    "\n",
    "### ✅ Fix: Clean those square brackets and quotes before splitting\n",
    "\n",
    "#Here’s how to fix it:\n",
    "\n",
    "#  Filter for 2024 movies\n",
    "df_2024 = df[df['year'] == 2024].copy()\n",
    "\n",
    "# Remove square brackets and quotes from 'genres'\n",
    "df_2024['genres'] = df_2024['genres'].str.replace(r\"[\\[\\]\\'\\\"]\", '', regex=True)\n",
    "\n",
    "#  Split the genres and explode into separate rows\n",
    "all_genres_2024 = df_2024['genres'].str.split(',').explode().str.strip()\n",
    "\n",
    "#  Get top 5 genres\n",
    "top_genres_2024 = all_genres_2024.value_counts().head(10)\n",
    "\n",
    "# Display result\n",
    "print(\"Top 20 genres in 2024:\")\n",
    "print(top_genres_2024)\n"
   ]
  },
  {
   "cell_type": "code",
   "execution_count": 246,
   "id": "aa0dbc89-11d2-437b-b6b5-f7b60a0cd537",
   "metadata": {},
   "outputs": [
    {
     "data": {
      "image/png": "[encoded data removed]",
      "text/plain": [
       "<Figure size 1000x600 with 1 Axes>"
      ]
     },
     "metadata": {},
     "output_type": "display_data"
    }
   ],
   "source": [
    "import matplotlib.pyplot as plt\n",
    "import seaborn as sns\n",
    "\n",
    "# Prepare top 10 genres\n",
    "top_genres_2024 = all_genres_2024.value_counts().head(10).reset_index()\n",
    "top_genres_2024.columns = ['genre', 'count']\n",
    "\n",
    "# Plot using hue for color mapping\n",
    "plt.figure(figsize=(10, 6))\n",
    "sns.barplot(\n",
    "    data=top_genres_2024,\n",
    "    x='count',\n",
    "    y='genre',\n",
    "    hue='genre',  # assign hue to use palette\n",
    "    palette='crest',\n",
    "    dodge=False,  # no grouping\n",
    "    legend=False  # disable legend if you don't need it\n",
    ")\n",
    "\n",
    "plt.title('Top 10 Movie Genres in 2024')\n",
    "plt.xlabel('Number of Movies')\n",
    "plt.ylabel('Genre')\n",
    "plt.tight_layout()\n",
    "plt.show()\n"
   ]
  },
  {
   "cell_type": "code",
   "execution_count": 252,
   "id": "0c38838f-581f-4eed-b026-0d74ab62f137",
   "metadata": {},
   "outputs": [
    {
     "name": "stdout",
     "output_type": "stream",
     "text": [
      "Top 10 genres in 2025:\n",
      "genres\n",
      "Drama        242\n",
      "Thriller     188\n",
      "Comedy       168\n",
      "Action       139\n",
      "Horror       113\n",
      "Romance       67\n",
      "Adventure     66\n",
      "Crime         61\n",
      "Fantasy       51\n",
      "Sci-Fi        49\n",
      "Name: count, dtype: int64\n"
     ]
    }
   ],
   "source": [
    "\n",
    "### ✅ Fix: Clean those square brackets and quotes before splitting\n",
    "\n",
    "#Here’s how to fix it:\n",
    "\n",
    "# Filter for 2024 movies\n",
    "df_2025 = df[df['year'] == 2025].copy()\n",
    "\n",
    "# Remove square brackets and quotes from 'genres'\n",
    "df_2025['genres'] = df_2025['genres'].str.replace(r\"[\\[\\]\\'\\\"]\", '', regex=True)\n",
    "\n",
    "#  Split the genres and explode into separate rows\n",
    "all_genres_2025 = df_2025['genres'].str.split(',').explode().str.strip()\n",
    "\n",
    "# Get top 5 genres\n",
    "top_genres_2025 = all_genres_2025.value_counts().head(10)\n",
    "\n",
    "#  Display result\n",
    "print(\"Top 10 genres in 2025:\")\n",
    "print(top_genres_2025)"
   ]
  },
  {
   "cell_type": "code",
   "execution_count": 254,
   "id": "026f4acd-b0c5-4615-baf4-ad12c0507b6d",
   "metadata": {},
   "outputs": [
    {
     "data": {
      "image/png": "[encoded data removed]",
      "text/plain": [
       "<Figure size 1000x600 with 1 Axes>"
      ]
     },
     "metadata": {},
     "output_type": "display_data"
    }
   ],
   "source": [
    "import matplotlib.pyplot as plt\n",
    "import seaborn as sns\n",
    "\n",
    "# Prepare top 10 genres\n",
    "top_genres_2025 = all_genres_2025.value_counts().head(10).reset_index()\n",
    "top_genres_2025.columns = ['genre', 'count']\n",
    "\n",
    "# Plot using hue for color mapping\n",
    "plt.figure(figsize=(10, 6))\n",
    "sns.barplot(\n",
    "    data=top_genres_2025,\n",
    "    x='count',\n",
    "    y='genre',\n",
    "    hue='genre',  # assign hue to use palette\n",
    "    palette='crest',\n",
    "    dodge=False,  # no grouping\n",
    "    legend=False  # disable legend if you don't need it\n",
    ")\n",
    "\n",
    "plt.title('Top 10 Movie Genres in 2025')\n",
    "plt.xlabel('Number of Movies')\n",
    "plt.ylabel('Genre')\n",
    "plt.tight_layout()\n",
    "plt.show()"
   ]
  },
  {
   "cell_type": "code",
   "execution_count": null,
   "id": "f057e62c-fc05-430d-8e52-575e607417bb",
   "metadata": {},
   "outputs": [],
   "source": []
  }
 ],
 "metadata": {
  "kernelspec": {
   "display_name": "Python 3 (ipykernel)",
   "language": "python",
   "name": "python3"
  },
  "language_info": {
   "codemirror_mode": {
    "name": "ipython",
    "version": 3
   },
   "file_extension": ".py",
   "mimetype": "text/x-python",
   "name": "python",
   "nbconvert_exporter": "python",
   "pygments_lexer": "ipython3",
   "version": "3.12.4"
  }
 },
 "nbformat": 4,
 "nbformat_minor": 5
}
